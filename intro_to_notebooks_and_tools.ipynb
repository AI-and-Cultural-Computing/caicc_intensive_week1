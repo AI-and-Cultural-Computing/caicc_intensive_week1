{
  "cells": [
    {
      "cell_type": "markdown",
      "metadata": {
        "id": "AdN8CZaA_ksj"
      },
      "source": [
        "# Introduction\n",
        "If you're reading this notebook you almost certainly are interested in some intersection of Python programming, machine learning, and the humanities!\n",
        "\n",
        " We're going to explain a few different things in this document:\n",
        " + What are you even looking at\n",
        " + How can you use this to interleave code and text in Python\n",
        " + How do you even write Python in the first place\n",
        " + How do you use a Linux commandline\n",
        " + How to get started writing your own notebooks\n",
        "\n",
        "To begin with, what you're looking at here is not an ordinary webpage but is, in fact, an interactive tool for writing documents and running code all together: a Jupyter notebook. To prove it, here's a block of Python code you can run"
      ]
    },
    {
      "cell_type": "code",
      "execution_count": 2,
      "metadata": {
        "colab": {
          "base_uri": "https://localhost:8080/"
        },
        "id": "4UCTF3IP1BxH",
        "outputId": "8144bdb7-40c6-455c-bbb6-aa700153548d"
      },
      "outputs": [
        {
          "name": "stdout",
          "output_type": "stream",
          "text": [
            "Press the little arrow and see what happens!\n"
          ]
        }
      ],
      "source": [
        "print(\"Press the little arrow and see what happens!\")"
      ]
    },
    {
      "cell_type": "markdown",
      "metadata": {
        "id": "_PZfWJ_pAciD"
      },
      "source": [
        "If you clicked the arrow you should see the text \"Press the little arrow and see what happens!\" appear right below the code block. This actually ran the code and displayed the result. Now the next thing we're going to do is have you create your own code block and then run it, printing out any message you want to see!\n",
        "\n",
        "First, `esc+b` to create the new cell. Then, trying typing your `print` statement into it and trying to run it. Did it print what you wanted? If it didn't, you can either try and figure out what's wrong by comparing it to the example above *or* you can read on to learn more about how Python's syntax, that is *how the code must be written*."
      ]
    },
    {
      "cell_type": "markdown",
      "metadata": {
        "id": "L9RPEuFTA0Ug"
      },
      "source": [
        "# Python and notebooks\n",
        "Python is the lingua franca of machine learning. It's not even particularly well-suited to machine learning. It just happens to be a language that's relatively simple to pick up, executes fast enough to not cause obvious problems, and had a number of scientists and programmers who liked it well-enough to start using it.\n",
        "\n",
        "If you're a burgeoning student of machine learning, choosing Python means that you get to build upon huge amounts of reusable free code, called *libraries*, used by industry professionals and researchers alike to make building, training, and deploying machine learning systems incredibly easy. So, in this section, we're going to be giving a very quick overview of some of the core concepts of Python. This isn't comprehensive by any means, we just want to introduce a little bit of bootstrapping knowledge so you can at least read code you see in other examples and get the gist of what's happening.\n",
        "\n",
        "With that preface out of the way, we need to start talking about the *syntax* of Python. We've already seen how to write a single line of code, but writing more code is actually just a matter of placing the lines one after the other. Python, like English, is read left-to-right and up-to-down even by the computer. \n",
        "\n",
        "We're going to be using a library called =ColabTurtle= in order to do play around and draw while we're getting familiar with our basic Python commands.\n",
        "\n",
        "We're also going to cover an important skill: how to *install a library*. In Python, you generally use a tool called =pip= to do the installation like below\n"
      ]
    },
    {
      "cell_type": "code",
      "execution_count": 4,
      "metadata": {
        "id": "aN_j1dkoA-SV"
      },
      "outputs": [
        {
          "name": "stdout",
          "output_type": "stream",
          "text": [
            "zsh:1: command not found: pip\n",
            "Collecting ColabTurtle\n",
            "  Downloading ColabTurtle-2.1.0.tar.gz (6.8 kB)\n",
            "  Preparing metadata (setup.py) ... \u001b[?25ldone\n",
            "\u001b[?25hBuilding wheels for collected packages: ColabTurtle\n",
            "  Building wheel for ColabTurtle (setup.py) ... \u001b[?25ldone\n",
            "\u001b[?25h  Created wheel for ColabTurtle: filename=ColabTurtle-2.1.0-py3-none-any.whl size=7643 sha256=15c4720e4c158f644b48d06bf9fc3c4c854d8ff12774caa9e7122dd8215ebcee\n",
            "  Stored in directory: /Users/francescafr/Library/Caches/pip/wheels/5b/86/e8/54f5c8c853606e3a3060bb2e60363cbed632374a12e0f33ffc\n",
            "Successfully built ColabTurtle\n",
            "Installing collected packages: ColabTurtle\n",
            "Successfully installed ColabTurtle-2.1.0\n",
            "Note: you may need to restart the kernel to use updated packages.\n"
          ]
        }
      ],
      "source": [
        "!pip install ColabTurtle\n",
        "# %pip install ColabTurtle # (use for local installation)"
      ]
    },
    {
      "cell_type": "markdown",
      "metadata": {
        "id": "fETcRDYeBCuN"
      },
      "source": [
        "If you ran that code, either by clicking on the arrow *or* by hitting `ctrl+enter`, you should be seeing a big pile of text happening as the notebook instance\n",
        " + runs =`pip`\n",
        " + looks up the library `ColabTurtle` in `pip`'s database\n",
        " + fetches every other library `ColabTurtle` depends on\n",
        " + installs everything and makes it available for use\n",
        "\n",
        "Now, why the `!` in front of `pip`? That's because this isn't actually *Python* code, it's a *shell command* that's issuing instructions to the underlying Linux system that's running the notebook. This is one of the nice things about using notebooks, actually! You can simultaneously write your code, prepare your Linux environment, and craft your documentation all together in the same file and share it with other people.\n",
        "\n",
        "Now that we have `ColabTurtle` installed, it's time to write our first program together: drawing a square"
      ]
    },
    {
      "cell_type": "code",
      "execution_count": 5,
      "metadata": {
        "id": "Pm7AZIL0BT4a"
      },
      "outputs": [
        {
          "data": {
            "text/html": [
              "\n",
              "      <svg width=\"800\" height=\"500\">\n",
              "        <rect width=\"100%\" height=\"100%\" fill=\"black\"/>\n",
              "        <line x1=\"100\" y1=\"100\" x2=\"100.0\" y2=\"50.0\" stroke-linecap=\"round\" style=\"stroke:mediumblue;stroke-width:4\"/><line x1=\"100.0\" y1=\"50.0\" x2=\"150.0\" y2=\"50.0\" stroke-linecap=\"round\" style=\"stroke:mediumblue;stroke-width:4\"/><line x1=\"150.0\" y1=\"50.0\" x2=\"150.0\" y2=\"100.0\" stroke-linecap=\"round\" style=\"stroke:mediumblue;stroke-width:4\"/><line x1=\"150.0\" y1=\"100.0\" x2=\"100.0\" y2=\"100.0\" stroke-linecap=\"round\" style=\"stroke:mediumblue;stroke-width:4\"/>\n",
              "        <g visibility=visible transform=\"rotate(270,100.0,100.0) translate(82.0, 82.0)\">\n",
              "<path style=\" stroke:none;fill-rule:evenodd;fill:mediumblue;fill-opacity:1;\" d=\"M 18.214844 0.632812 C 16.109375 1.800781 15.011719 4.074219 15.074219 7.132812 L 15.085938 7.652344 L 14.785156 7.496094 C 13.476562 6.824219 11.957031 6.671875 10.40625 7.066406 C 8.46875 7.550781 6.515625 9.15625 4.394531 11.992188 C 3.0625 13.777344 2.679688 14.636719 3.042969 15.027344 L 3.15625 15.152344 L 3.519531 15.152344 C 4.238281 15.152344 4.828125 14.886719 8.1875 13.039062 C 9.386719 12.378906 10.371094 11.839844 10.378906 11.839844 C 10.386719 11.839844 10.355469 11.929688 10.304688 12.035156 C 9.832031 13.09375 9.257812 14.820312 8.96875 16.078125 C 7.914062 20.652344 8.617188 24.53125 11.070312 27.660156 C 11.351562 28.015625 11.363281 27.914062 10.972656 28.382812 C 8.925781 30.84375 7.945312 33.28125 8.238281 35.1875 C 8.289062 35.527344 8.28125 35.523438 8.917969 35.523438 C 10.941406 35.523438 13.074219 34.207031 15.136719 31.6875 C 15.359375 31.417969 15.328125 31.425781 15.5625 31.574219 C 16.292969 32.042969 18.023438 32.964844 18.175781 32.964844 C 18.335938 32.964844 19.941406 32.210938 20.828125 31.71875 C 20.996094 31.625 21.136719 31.554688 21.136719 31.558594 C 21.203125 31.664062 21.898438 32.414062 22.222656 32.730469 C 23.835938 34.300781 25.5625 35.132812 27.582031 35.300781 C 27.90625 35.328125 27.9375 35.308594 28.007812 34.984375 C 28.382812 33.242188 27.625 30.925781 25.863281 28.425781 L 25.542969 27.96875 L 25.699219 27.785156 C 28.945312 23.960938 29.132812 18.699219 26.257812 11.96875 L 26.207031 11.84375 L 27.945312 12.703125 C 31.53125 14.476562 32.316406 14.800781 33.03125 14.800781 C 33.976562 14.800781 33.78125 13.9375 32.472656 12.292969 C 28.519531 7.355469 25.394531 5.925781 21.921875 7.472656 L 21.558594 7.636719 L 21.578125 7.542969 C 21.699219 6.992188 21.761719 5.742188 21.699219 5.164062 C 21.496094 3.296875 20.664062 1.964844 19.003906 0.855469 C 18.480469 0.503906 18.457031 0.5 18.214844 0.632812\"/>\n",
              "</g>\n",
              "      </svg>\n",
              "    "
            ],
            "text/plain": [
              "<IPython.core.display.HTML object>"
            ]
          },
          "metadata": {},
          "output_type": "display_data"
        }
      ],
      "source": [
        "from ColabTurtle.Turtle import *\n",
        "\n",
        "initializeTurtle()\n",
        "\n",
        "color('mediumblue')\n",
        "\n",
        "penup()\n",
        "goto(100,100)\n",
        "\n",
        "pendown()\n",
        "forward(50)\n",
        "right(90)\n",
        "forward(50)\n",
        "right(90)\n",
        "forward(50)\n",
        "right(90)\n",
        "forward(50)"
      ]
    },
    {
      "cell_type": "markdown",
      "metadata": {
        "id": "9DdW18iWBW1v"
      },
      "source": [
        "If you run this now you should see a little animation play out of a turtle drawing a blue square. We're going to come back to this in a future notebook as we dissect Python code and explain the basics of Python programming, but this is at least a first start so you can see how Python is written and executed in a notebook!\n",
        "\n",
        "Now, what about adding your own cells of code or text? In every notebook system (Google Colab, Paperspace Gradient, Kaggle, local Jupyter install) it might look a little different but in all of them the basic controls are\n",
        "\n",
        " + `esc+b` to insert a new cell *after* the current cell\n",
        " + `esc+a` to insert a new cell *before* the current cell\n",
        "\n",
        "Generally the notebook system will default to a code cell, but (usually) the cell type can be changed to a *markdown* cell. Markdown is kind of like a really simplified version of HTML for formatting documents. A simple markdown reference can be found here: https://www.markdownguide.org/basic-syntax/, but the basics you really need to know are\n",
        "\n",
        " + lists are created by a series of lines starting with `-`\n",
        " + `*this will be italic*` and `**this will be bold**`\n",
        " + links are given like `[text you want to appear](actual url)`\n",
        "\n",
        "and with those pieces and looking up the handful of other things you'll need you'll be able to write documentation inline with your code easily. \n",
        "\n",
        "An aside on literate programming:\n",
        "the process of interleaving code and documentation is generally called *literate programming*. The important thing about literate programming, in the author's opinion, is that it allows not just for traditional styles of documentation where you explain how to use the code in succinct terms but a kind of documentation of the *process* of writing the code. So when you're working in a notebook I encourage you to wax poetic about what you're trying to do, why you're trying to do it, and leave in all your open questions and thoughts about what else you could do and how you could do it. It might be of immense value to not only other people but yourself in mere months.\n"
      ]
    },
    {
      "cell_type": "markdown",
      "metadata": {
        "id": "pSviVzIAeSUo"
      },
      "source": [
        "# Services you'll need\n",
        "\n",
        "So we've had a brief introduction to how to use notebooks, now we need to talk about all the various sites and services it would be useful to sign up for for the remainder of this training. We'll just be giving a brief description of exactly what these services are and what we'll be using them for:\n",
        " + [GitHub](https://github.com/) is where you'll share your code, store it for safekeeping, and where you'll find most of the machine learning projects you'll be building on. If you don't already have a Github account sign up for one first. We'll talk about what exactly =git= is shortly, but in essence it's a way of organizing files and projects for coding that allows for shared code and documentation to be updated easily.\n",
        " + [Google Colab](https://colab.research.google.com/) is Google's service for hosting and running notebooks remotely. They have free and paid tiers. A lot of machine learning projects are also shared as notebooks, particularly in the AI art side of things. You probably already have a Google account but if somehow you do not, you should make one in order to access Colab. You do /not/ need to worry about the paid tiers for the rest of this training.\n",
        " + [Hugging Face](https://huggingface.co/) is the single biggest source of pre-trained models---that is, machine learning programs that are already finished being prepared and are usable---and libraries for how to use them in machine learning right now. You'll want to sign up for an account so that you can access the models they've already hosted, such as transformers for processing text or diffusers for generating and editing images. They also allow you to host finished machine learning projects that can be run in the browser, which we'll use later on.\n",
        " + [Kaggle](https://www.kaggle.com/) is to datasets what Huggingface is to models: /the/ single biggest place where you can find easily accessible and useable data for training your machine learning models. You'll need to create an account in order to access their data. They also have a number of nice, gentle, tutorials on various machine learning topics.\n",
        " + [Paperspace Gradient](https://console.paperspace.com) Google Colab is great for previewing and testing out ML methods and models, but as you develop workflows for ML projects, you will want to work on a local machine or remote space designed specifically for ML. Paperspace's free tier is very generous in terms of what it allows you to run and the hardware it lets you run it on. You can properly have projects with multiple files in it and use =git= with it. You can use your Github account to sign up with them!"
      ]
    },
    {
      "cell_type": "markdown",
      "metadata": {
        "id": "CLg-HXJehBpI"
      },
      "source": [
        "# Next steps\n",
        "\n",
        "Github is where you will store and share your code. Colab is where you will edit and test it. These tools are not connected by default - you will find you can open github files in colab, but to edit and save them, you will need to grant your google account access to your github account.\n",
        "\n",
        "## Github and Google colab\n",
        "1. Register for [Github](https://github.com/signup?user_email=&source=form-home-signup) (if you haven't already)\n",
        "2. Navigate to [Google Colab](https://colab.research.google.com/) (make sure you're logged into your desired google account)\n",
        "3. Connect your github account to google colab by selecting the *github* tab and following all prompts to authorize colab to access your github account.\n",
        "\n",
        "Now, you should be able to search your github repos (as well as other public repos) for python notebook files and open them directly in google colab (if you open someone elses file, you will not be able to edit it permanently - instead you will be asked to save your own copy).\n",
        "\n",
        "## Copying and Editing Github files\n",
        "\n",
        "The next thing we need to do is put some starter files in your github repo (so you can open and edit them in colab)\n",
        "\n",
        "1. Start by navigating to [the github repo for week 1](https://github.com/AI-and-Cultural-Computing/caicc_intensive_week1) and \"fork it\" by clicking on the little button that says *fork* on the repo (this makes a copy of the git repo on your own account, so you can play with and make changes to it as you want without clobbering what other people have been doing!)\n",
        "![](https://github.com/AI-and-Cultural-Computing/caicc_intensive_week1/raw/main/images/Forking_Demo.jpg)\n",
        "![](https://github.com/AI-and-Cultural-Computing/caicc_intensive_week1/raw/main/images/Create_Fork.jpg)\n",
        "\n",
        "2. Now let's go back to [google colab](https://colab.research.google.com/) and see if we can access this new repo. This time when you navigate to the github tab, search by your Username and navigate to your forked repo.\n",
        "![](https://github.com/AI-and-Cultural-Computing/caicc_intensive_week1/raw/main/images/Colab_open_from_github.jpg)\n",
        "\n",
        "(**if you can't find your files, make sure to check the box for private repo access**)\n",
        "When you navigate to a repo with ipython notebook files (`.ipynb`) they should appear automatically\n",
        "\n",
        "![](https://github.com/AI-and-Cultural-Computing/caicc_intensive_week1/raw/main/images/Open_Notebook_Colab.jpg)\n",
        "From here, you can load notebooks directly from that github repo.\n",
        "\n",
        "## Editing and Saving notebooks\n",
        "\n",
        "Once you've made changes to the notebook and wish to save it to github...\n",
        "1. Navigate to File > Save Copy to Github\n",
        "![](https://github.com/AI-and-Cultural-Computing/caicc_intensive_week1/raw/main/images/save_notebook_colab.jpg)\n",
        "2. Make sure you are in the same repo you grabbed the file from and that your file's name has not changed (otherwise you will be saving a copy, rather than updating the original file).\n",
        "3. Write a brief descriptive message of your changes, add a colab link if you'd like, and then select \"OK\"\n",
        "![](https://github.com/AI-and-Cultural-Computing/caicc_intensive_week1/raw/main/images/copy_to_github.jpg)\n",
        "4. This will save or \"push\" your updated version to github. \n",
        "\n",
        "When you're all done saving, you will be redirected back to your Github repository so you may preview the changes.\n",
        "If you selected \"insert colab link\" when saving, you will now notice a button at the top of your Github notebook. This links back to colab for easy editing - now you can open the file directly from Github next time you want to edit it!\n",
        "\n",
        "***Note:*** *Google Colab also allows you to save notebooks directly in google drive. Be aware that these notebooks will not be tracked by Github. This can be good if you just want to test out someone's notebook, but once you decide to build out an application or experiment, it is best to create an official github 'fork' of the repo - to keep track of changes/ versions, and documentation/content related to the notebook (as well as share with others when ready).*"
      ]
    }
  ],
  "metadata": {
    "colab": {
      "collapsed_sections": [],
      "provenance": []
    },
    "kernelspec": {
      "display_name": "Python 3.10.6 64-bit",
      "language": "python",
      "name": "python3"
    },
    "language_info": {
      "codemirror_mode": {
        "name": "ipython",
        "version": 3
      },
      "file_extension": ".py",
      "mimetype": "text/x-python",
      "name": "python",
      "nbconvert_exporter": "python",
      "pygments_lexer": "ipython3",
      "version": "3.10.6"
    },
    "vscode": {
      "interpreter": {
        "hash": "b0fa6594d8f4cbf19f97940f81e996739fb7646882a419484c72d19e05852a7e"
      }
    }
  },
  "nbformat": 4,
  "nbformat_minor": 0
}
