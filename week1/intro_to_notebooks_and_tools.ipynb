{
  "nbformat": 4,
  "nbformat_minor": 0,
  "metadata": {
    "colab": {
      "provenance": [],
      "collapsed_sections": []
    },
    "kernelspec": {
      "name": "python3",
      "display_name": "Python 3"
    },
    "language_info": {
      "name": "python"
    }
  },
  "cells": [
    {
      "cell_type": "markdown",
      "source": [
        "# Introduction\n",
        "If you're reading this notebook you almost certainly are interested in some intersection of Python programming, machine learning, and the humanities!\n",
        "\n",
        " We're going to explain a few different things in this document:\n",
        " + What are you even looking at\n",
        " + How can you use this to interleave code and text in Python\n",
        " + How do you even write Python in the first place\n",
        " + How do you use a Linux commandline\n",
        " + How to get started writing your own notebooks\n",
        "\n",
        "To begin with, what you're looking at here is not an ordinary webpage but is, in fact, an interactive tool for writing documents and running code all together: a Jupyter notebook. To prove it, here's a block of Python code you can run"
      ],
      "metadata": {
        "id": "AdN8CZaA_ksj"
      }
    },
    {
      "cell_type": "code",
      "execution_count": null,
      "metadata": {
        "colab": {
          "base_uri": "https://localhost:8080/"
        },
        "id": "4UCTF3IP1BxH",
        "outputId": "8144bdb7-40c6-455c-bbb6-aa700153548d"
      },
      "outputs": [
        {
          "output_type": "stream",
          "name": "stdout",
          "text": [
            "Press the little arrow and see what happens!\n"
          ]
        }
      ],
      "source": [
        "print(\"Press the little arrow and see what happens!\")"
      ]
    },
    {
      "cell_type": "markdown",
      "source": [
        "If you clicked the arrow you should see the text \"Press the little arrow and see what happens!\" appear right below the code block. This actually ran the code and displayed the result. Now the next thing we're going to do is have you create your own code block and then run it, printing out any message you want to see!\n",
        "\n",
        "First, `esc+b` to create the new cell. Then, trying typing your `print` statement into it and trying to run it. Did it print what you wanted? If it didn't, you can either try and figure out what's wrong by comparing it to the example above *or* you can read on to learn more about how Python's syntax, that is *how the code must be written*."
      ],
      "metadata": {
        "id": "_PZfWJ_pAciD"
      }
    },
    {
      "cell_type": "markdown",
      "source": [
        "#Python and notebooks\n",
        "Python is the lingua franca of machine learning. It's not even particularly well-suited to machine learning. It just happens to be a language that's relatively simple to pick up, executes fast enough to not cause obvious problems, and had a number of scientists and programmers who liked it well-enough to start using it.\n",
        "\n",
        "If you're a burgeoning student of machine learning, choosing Python means that you get to build upon huge amounts of reusable free code, called libraries, used by industry professionals and researchers alike to make building, training, and deploying machine learning systems incredibly easy. So in this section we're going to be giving a very quick overview of some of the core concepts of Python. This isn't comprehensive by any means, we just want to introduce a little bit of bootstrapping knowledge so you can at least read code you see in other examples and get the gist of what's happening.\n",
        "\n",
        "With that preface out of the way, we need to start talking about the *syntax* of Python. We've already seen how to write a single line of code, but writing more code is actually just a matter of placing the lines one after the other. Python, like English, is read left-to-right and up-to-down even by the computer. \n",
        "\n",
        "We're going to be using a library called =ColabTurtle= in order to do play around and draw while we're getting familiar with our basic Python commands.\n",
        "\n",
        "We're also going to cover an important skill: how to *install a library*. In Python, you generally use a tool called =pip= to do the installation like below\n"
      ],
      "metadata": {
        "id": "L9RPEuFTA0Ug"
      }
    },
    {
      "cell_type": "code",
      "source": [
        "!pip install ColabTurtle"
      ],
      "metadata": {
        "id": "aN_j1dkoA-SV"
      },
      "execution_count": null,
      "outputs": []
    },
    {
      "cell_type": "markdown",
      "source": [
        "If you ran that code, either by clicking on the arrow *or* by hitting `ctrl+enter`, you should be seeing a big pile of text happening as the notebook instance\n",
        " + runs =`ip`\n",
        " + looks up the library `ColabTurtle` in `pip`'s database\n",
        " + fetches every other library `ColabTurtle` depends on\n",
        " + installs everything and makes it available for use\n",
        "\n",
        "Now, why the `!` in front of `pip`? That's because this isn't actually *Python* code, it's a *shell command* that's issuing instructions to the underlying Linux system that's running the notebook. This is one of the nice things about using notebooks, actually! You can simultaneously write your code, prepare your Linux environment, and craft your documentation all together in the same file and share it with other people.\n",
        "\n",
        "Now that we have `ColabTurtle` installed, it's time to write our first program together: drawing a square"
      ],
      "metadata": {
        "id": "fETcRDYeBCuN"
      }
    },
    {
      "cell_type": "code",
      "source": [
        "from ColabTurtle.Turtle import *\n",
        "\n",
        "initializeTurtle()\n",
        "\n",
        "color('mediumblue')\n",
        "\n",
        "penup()\n",
        "goto(100,100)\n",
        "\n",
        "pendown()\n",
        "forward(50)\n",
        "right(90)\n",
        "forward(50)\n",
        "right(90)\n",
        "forward(50)\n",
        "right(90)\n",
        "forward(50)"
      ],
      "metadata": {
        "id": "Pm7AZIL0BT4a"
      },
      "execution_count": null,
      "outputs": []
    },
    {
      "cell_type": "markdown",
      "source": [
        "If you run this now you should see a little animation play out of a turtle drawing a blue square. We're going to come back to this in a future notebook as we dissect Python code and explain the basics of Python programming, but this is at least a first start so you can see how Python is written and executed in a notebook!\n",
        "\n",
        "Now, what about adding your own cells of code or text? In every notebook system (Google Colab, Paperspace Gradient, Kaggle, local Jupyter install) it might look a little different but in all of them the basic controls are\n",
        "\n",
        " + `esc+b` to insert a new cell *after* the current cell\n",
        " + `esc+a` to insert a new cell *before* the current cell\n",
        "\n",
        "Generally the notebook system will default to a code cell, but (usually) the cell type can be changed to a *markdown* cell. Markdown is kind of like a really simplified version of HTML for formatting documents. A simple markdown reference can be found here: https://www.markdownguide.org/basic-syntax/, but the basics you really need to know are\n",
        "\n",
        " + lists are created by a series of lines starting with `-`\n",
        " + `*this will be italic*` and `**this will be bold**`\n",
        " + links are given like `[text you want to appear](actual url)`\n",
        "\n",
        "and with those pieces and looking up the handful of other things you'll need you'll be able to write documentation inline with your code easily. \n",
        "\n",
        "An aside on literate programming:\n",
        "the process of interleaving code and documentation is generally called *literate programming*. The important thing about literate programming, in the author's opinion, is that it allows not just for traditional styles of documentation where you explain how to use the code in succint terms but a kind of documentation of the *process* of writing the code. So when you're working in a notebook I encourage you to wax poetic about what you're trying to do, why you're trying to do it, and leave in all your open questions and thoughts about what else you could do and how you could do it. It might be of immense value to not only other people but yourself in mere months.\n"
      ],
      "metadata": {
        "id": "9DdW18iWBW1v"
      }
    },
    {
      "cell_type": "markdown",
      "source": [
        "# Services you'll need\n",
        "\n",
        "So we've had a brief introduction to how to use notebooks, now we need to talk about all the various sites and services it would be useful to sign up for for the remainder of this training. We'll just be giving a brief description of exactly what these services are and what we'll be using them for:\n",
        " + [GitHub](https://github.com/) is where you'll share your code, store it for safekeeping, and where you'll find most of the machine learning projects you'll be building on. If you don't already have a Github account sign up for one first. We'll talk about what exactly =git= is shortly, but in essence it's a way of organizing files and projects for coding that allows for shared code to be updated easily.\n",
        " + [Google Colab](https://colab.research.google.com/) is Google's service for hosting and running notebooks remotely. They have free and paid tiers. A lot of machine learning projects are also shared as notebooks, particularly in the AI art side of things. You probably already have a Google account but if somehow you do not, you should make one in order to access Colab. You do /not/ need to worry about the paid tiers for the rest of this training.\n",
        " + [Hugging Face](https://huggingface.co/) is the single biggest source of pre-trained models---that is, machine learning programs that are already finished being prepared and are usable---and libraries for how to use them in machine learning right now. You'll want to sign up for an account so that you can access the models they've already hosted, such as transformers for processing text or diffusers for generating and editing images. They also allow you to host finished machine learning projects that can be run in the browser, which we'll use later on.\n",
        " + [Kaggle](https://www.kaggle.com/) is to datasets what Huggingface is to models: /the/ single biggest place where you can find easily accessible and useable data for training your machine learning models. You'll need to create an account in order to access their data. They also have a number of nice, gentle, tutorials on various machine learning topics.\n",
        " + [Paperspace Gradient](https://console.paperspace.com) is the place where you'll be actually doing most of your work in this intensive. Their free tier is very generous in terms of what it allows you to run and the hardware it lets you run it on. You can properly have projects with multiple files in it and use =git= with it. You can use your Github account to sign up with them!"
      ],
      "metadata": {
        "id": "pSviVzIAeSUo"
      }
    },
    {
      "cell_type": "markdown",
      "source": [
        "# Next steps\n",
        "## Fork the week 1 repo\n",
        "## Open a project in Gradient\n",
        "(explain how to use jupyterlabs)\n",
        "## Clone repo into Paperspace"
      ],
      "metadata": {
        "id": "CLg-HXJehBpI"
      }
    }
  ]
}